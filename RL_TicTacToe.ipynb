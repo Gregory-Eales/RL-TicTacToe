{
  "nbformat": 4,
  "nbformat_minor": 0,
  "metadata": {
    "colab": {
      "name": "RL-TicTacToe.ipynb",
      "version": "0.3.2",
      "provenance": [],
      "collapsed_sections": [],
      "include_colab_link": true
    },
    "kernelspec": {
      "name": "python3",
      "display_name": "Python 3"
    }
  },
  "cells": [
    {
      "cell_type": "markdown",
      "metadata": {
        "id": "view-in-github",
        "colab_type": "text"
      },
      "source": [
        "<a href=\"https://colab.research.google.com/github/Gregory-Eales/RL-TicTacToe/blob/master/RL_TicTacToe.ipynb\" target=\"_parent\"><img src=\"https://colab.research.google.com/assets/colab-badge.svg\" alt=\"Open In Colab\"/></a>"
      ]
    },
    {
      "metadata": {
        "id": "V0idV2Z25Xrj",
        "colab_type": "text"
      },
      "cell_type": "markdown",
      "source": [
        "Import Dependencies"
      ]
    },
    {
      "metadata": {
        "id": "l3Inx90vFNBu",
        "colab_type": "code",
        "outputId": "3cdf4fca-7076-4a63-856c-f1812918b90a",
        "colab": {
          "base_uri": "https://localhost:8080/",
          "height": 224
        }
      },
      "cell_type": "code",
      "source": [
        "!pip3 install dropbox"
      ],
      "execution_count": 3,
      "outputs": [
        {
          "output_type": "stream",
          "text": [
            "Collecting dropbox\n",
            "\u001b[?25l  Downloading https://files.pythonhosted.org/packages/bd/20/4e55247e4e474aa741d209a533f4e490ea08a0f2cf84e7fa49cd38c3b54b/dropbox-9.3.0-py3-none-any.whl (503kB)\n",
            "\u001b[K    100% |████████████████████████████████| 512kB 24.8MB/s \n",
            "\u001b[?25hRequirement already satisfied: requests>=2.16.2 in /usr/local/lib/python3.6/dist-packages (from dropbox) (2.18.4)\n",
            "Requirement already satisfied: six>=1.3.0 in /usr/local/lib/python3.6/dist-packages (from dropbox) (1.11.0)\n",
            "Requirement already satisfied: urllib3<1.23,>=1.21.1 in /usr/local/lib/python3.6/dist-packages (from requests>=2.16.2->dropbox) (1.22)\n",
            "Requirement already satisfied: chardet<3.1.0,>=3.0.2 in /usr/local/lib/python3.6/dist-packages (from requests>=2.16.2->dropbox) (3.0.4)\n",
            "Requirement already satisfied: certifi>=2017.4.17 in /usr/local/lib/python3.6/dist-packages (from requests>=2.16.2->dropbox) (2019.3.9)\n",
            "Requirement already satisfied: idna<2.7,>=2.5 in /usr/local/lib/python3.6/dist-packages (from requests>=2.16.2->dropbox) (2.6)\n",
            "Installing collected packages: dropbox\n",
            "Successfully installed dropbox-9.3.0\n"
          ],
          "name": "stdout"
        }
      ]
    },
    {
      "metadata": {
        "id": "8tEQw6QV5ObA",
        "colab_type": "code",
        "colab": {
          "base_uri": "https://localhost:8080/",
          "height": 34
        },
        "outputId": "f7d6e78e-4684-41a7-a3de-f1ec99c944f1"
      },
      "cell_type": "code",
      "source": [
        "import numpy as np\n",
        "import keras\n",
        "import dropbox\n",
        "from keras.layers import Convolution2D as Conv2D\n",
        "from keras.layers import Dense\n",
        "from keras.layers import Flatten"
      ],
      "execution_count": 4,
      "outputs": [
        {
          "output_type": "stream",
          "text": [
            "Using TensorFlow backend.\n"
          ],
          "name": "stderr"
        }
      ]
    },
    {
      "metadata": {
        "id": "QlvXwh5Q5dk-",
        "colab_type": "text"
      },
      "cell_type": "markdown",
      "source": [
        "Defining Training Enviroment"
      ]
    },
    {
      "metadata": {
        "id": "1Toq2xW55WKT",
        "colab_type": "code",
        "colab": {}
      },
      "cell_type": "code",
      "source": [
        "class TrainENV(object):\n",
        "  \n",
        "  def __init__(self, num_models=2):\n",
        "    self.num_models = 2\n",
        "    self.board = np.zeros([3, 3])\n",
        "    self.dbx_token = \"qCE45upb8QAAAAAAAAAAEkIQWUdP5SqMqWG9I5C_3DDAN_Vlleeyjvc5Sv4vyWp9\"\n",
        "    self.dbx = dropbox.Dropbox(self.dbx_token)\n",
        "    self.initialize_models()\n",
        "    self.build_model_architecture()\n",
        "    \n",
        "  ###############################\n",
        "  # DEEP NEURAL NETWORK METHODS #\n",
        "  ###############################\n",
        "  \n",
        "  # defines and stores models in model dict\n",
        "  def initialize_models(self):\n",
        "    self.model = {}\n",
        "    for i in range(self.num_models):\n",
        "      self.model[\"M\" + str(i+1)] = keras.models.Sequential()\n",
        "    \n",
        "    \n",
        "  # builds initialized model with defined architecture\n",
        "  def build_model_architecture(self):\n",
        "    for i in range(self.num_models):\n",
        "      self.model[\"M\" + str(i+1)].add(Conv2D(64, kernel_size=2, activation='relu', padding=\"same\", input_shape=(3,3,1)))\n",
        "      self.model[\"M\" + str(i+1)].add(Conv2D(32, kernel_size=2, padding=\"same\", activation='relu'))\n",
        "      self.model[\"M\" + str(i+1)].add(Flatten())\n",
        "      self.model[\"M\" + str(i+1)].add(Dense(32, activation='softmax'))\n",
        "      self.model[\"M\" + str(i+1)].add(Dense(9, activation='softmax'))\n",
        "      self.model['M' + str(i+1)].compile(optimizer='adam', loss='mean_squared_error', metrics=['accuracy'])\n",
        "    \n",
        "  \n",
        "  # saves models in project folder\n",
        "  def save_models(self):\n",
        "    for i in range(self.num_models):\n",
        "     # self.model[\"M\"+str(i+1)].\n",
        "     pass\n",
        "  \n",
        "  # loads models from project folder\n",
        "  def load_models(self):\n",
        "    pass\n",
        "  \n",
        "  ###########################\n",
        "  # GAME ENVIROMENT METHODS #\n",
        "  ###########################\n",
        "  \n",
        "  # runs the main game loop\n",
        "  def play_human(self):\n",
        "    turn = \"human\"\n",
        "    # reset board\n",
        "    self.board = np.zeros([3, 3])\n",
        "    # get player move\n",
        "    \n",
        "    # check if move is valid\n",
        "    \n",
        "    # if valid change turn\n",
        "    \n",
        "    pass\n",
        "  \n",
        "  def rand_train_ai(self, model=\"M1\", epochs=100):\n",
        "    \n",
        "    for i in range(100):\n",
        "      playing = True\n",
        "      while playing:\n",
        "        turn = \"ai\"\n",
        "  \n",
        "  def get_ai_move(self, model=\"M1\"):\n",
        "    \n",
        "  \n",
        "  \n",
        "  \n",
        "  # checks to see if move is valid\n",
        "  def check_move(self):\n",
        "    pass\n",
        "  \n",
        "  # gets human move\n",
        "  def get_move(self):\n",
        "    pass\n",
        "  \n",
        "  # gets ai move from model\n",
        "  def get_model_move(self):\n",
        "    pass\n",
        "  \n",
        "  # check to see if there is a winner\n",
        "  def check_winner(self):\n",
        "    \n",
        "    # check horizontal\n",
        "    for i in range(3):\n",
        "      \n",
        "      if self.board[i][0] == self.board[i][1] and self.board[i][1] == self.board[i][2]:\n",
        "        if self.board[i][0] != 0:\n",
        "          return self.board[i][0]\n",
        "        \n",
        "      if self.board[0][i] == self.board[1][i] and self.board[1][i] == self.board[2][i]:\n",
        "        if self.board[0][i] != 0:\n",
        "          return self.board[0][i]\n",
        "      \n",
        "    if self.board[0][0] == self.board[1][1] and self.board[1][1] == self.board[2][2]:\n",
        "      if self.board[0][0] != 0: \n",
        "        return self.board[0][0]\n",
        "    \n",
        "    if self.board[0][2] == self.board[1][1] and self.board[1][1] == self.board[2][0]:\n",
        "      if self.board[1][1] != 0:\n",
        "        return self.board[1][1]\n",
        "    \n",
        "    \n",
        "    return None\n",
        "   \n",
        "      \n",
        "  \n",
        "  # prints board state\n",
        "  def print_board(self):\n",
        "    board = []\n",
        "    \n",
        "    for i in range(3):\n",
        "      row = []\n",
        "      for j in range(3):\n",
        "        \n",
        "        if self.board[i][j] == 0:\n",
        "          row.append(\" \")\n",
        "          \n",
        "        elif self.board[i][j] == 1:\n",
        "          row.append(\"X\")\n",
        "        \n",
        "        elif self.board[i][j] == -1:\n",
        "          row.append(\"O\")\n",
        "        \n",
        "      board.append(row)\n",
        "    \n",
        "    print(\"-------------\")\n",
        "    print(\"|\", board[0][0], \"|\", board[0][1], \"|\", board[0][2], \"|\")\n",
        "    print(\"-------------\")\n",
        "    print(\"|\", board[1][0], \"|\", board[1][1], \"|\", board[1][2], \"|\")\n",
        "    print(\"-------------\")\n",
        "    print(\"|\", board[2][0], \"|\", board[2][1], \"|\", board[2][2], \"|\")\n",
        "    print(\"-------------\")\n",
        "    \n",
        "  \n",
        "  \n",
        "  ####################\n",
        "  # DROP BOX METHODS #\n",
        "  ####################\n",
        "  \n",
        "  # returns the current dropbox account\n",
        "  def get_dbx_account(self):\n",
        "    return(self.dbx.users_get_current_account())\n",
        "  \n",
        "  # uploads project file\n",
        "  def upload_file_dbx(self):\n",
        "    dbx.files_upload(\"RL-TicTacToe\", '/RL-TicTacToe/')\n",
        "  \n",
        "  # downloads project file\n",
        "  def download_file_dbx(self):\n",
        "    pass"
      ],
      "execution_count": 0,
      "outputs": []
    },
    {
      "metadata": {
        "id": "dWjiAfPxGnfm",
        "colab_type": "text"
      },
      "cell_type": "markdown",
      "source": [
        "Testing ENV Elements"
      ]
    },
    {
      "metadata": {
        "id": "rVol18ITHYfp",
        "colab_type": "code",
        "outputId": "31995c5f-1ff4-4805-eb03-b274d4b7cc9c",
        "colab": {
          "base_uri": "https://localhost:8080/",
          "height": 136
        }
      },
      "cell_type": "code",
      "source": [
        "x = np.array([[1, 1, 0], [-1, -1, 1], [1, 1, -1]]).reshape(1, 3, 3, 1)\n",
        "y = np.array([0, 0, 1, 0, 0, 0, 0, 0, 0]).reshape(1, 9)\n",
        "\n",
        "env = TrainENV()\n",
        "env.get_dbx_account()\n",
        "\n",
        "#env.model[\"M1\"].fit(x, y, epochs=100)\n",
        "\n",
        "\n",
        "env.board = np.array([[1, 0, 0], [0, -1, 0], [0, 0, 1]])\n",
        "\n",
        "\n",
        "env.print_board()\n",
        "\n"
      ],
      "execution_count": 40,
      "outputs": [
        {
          "output_type": "stream",
          "text": [
            "-------------\n",
            "| X |   |   |\n",
            "-------------\n",
            "|   | O |   |\n",
            "-------------\n",
            "|   |   | X |\n",
            "-------------\n"
          ],
          "name": "stdout"
        }
      ]
    }
  ]
}