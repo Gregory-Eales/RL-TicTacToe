{
  "nbformat": 4,
  "nbformat_minor": 0,
  "metadata": {
    "colab": {
      "name": "RL-TicTacToe.ipynb",
      "version": "0.3.2",
      "provenance": [],
      "collapsed_sections": [],
      "include_colab_link": true
    },
    "kernelspec": {
      "name": "python3",
      "display_name": "Python 3"
    }
  },
  "cells": [
    {
      "cell_type": "markdown",
      "metadata": {
        "id": "view-in-github",
        "colab_type": "text"
      },
      "source": [
        "<a href=\"https://colab.research.google.com/github/Gregory-Eales/RL-TicTacToe/blob/master/RL_TicTacToe.ipynb\" target=\"_parent\"><img src=\"https://colab.research.google.com/assets/colab-badge.svg\" alt=\"Open In Colab\"/></a>"
      ]
    },
    {
      "metadata": {
        "id": "V0idV2Z25Xrj",
        "colab_type": "text"
      },
      "cell_type": "markdown",
      "source": [
        "Import Dependencies"
      ]
    },
    {
      "metadata": {
        "id": "l3Inx90vFNBu",
        "colab_type": "code",
        "outputId": "a3f27a3f-f0b7-4b10-9337-261232c09618",
        "colab": {
          "base_uri": "https://localhost:8080/",
          "height": 224
        }
      },
      "cell_type": "code",
      "source": [
        "!pip3 install dropbox"
      ],
      "execution_count": 0,
      "outputs": [
        {
          "output_type": "stream",
          "text": [
            "Collecting dropbox\n",
            "\u001b[?25l  Downloading https://files.pythonhosted.org/packages/bd/20/4e55247e4e474aa741d209a533f4e490ea08a0f2cf84e7fa49cd38c3b54b/dropbox-9.3.0-py3-none-any.whl (503kB)\n",
            "\u001b[K    100% |████████████████████████████████| 512kB 22.8MB/s \n",
            "\u001b[?25hRequirement already satisfied: six>=1.3.0 in /usr/local/lib/python3.6/dist-packages (from dropbox) (1.11.0)\n",
            "Requirement already satisfied: requests>=2.16.2 in /usr/local/lib/python3.6/dist-packages (from dropbox) (2.18.4)\n",
            "Requirement already satisfied: chardet<3.1.0,>=3.0.2 in /usr/local/lib/python3.6/dist-packages (from requests>=2.16.2->dropbox) (3.0.4)\n",
            "Requirement already satisfied: urllib3<1.23,>=1.21.1 in /usr/local/lib/python3.6/dist-packages (from requests>=2.16.2->dropbox) (1.22)\n",
            "Requirement already satisfied: idna<2.7,>=2.5 in /usr/local/lib/python3.6/dist-packages (from requests>=2.16.2->dropbox) (2.6)\n",
            "Requirement already satisfied: certifi>=2017.4.17 in /usr/local/lib/python3.6/dist-packages (from requests>=2.16.2->dropbox) (2019.3.9)\n",
            "Installing collected packages: dropbox\n",
            "Successfully installed dropbox-9.3.0\n"
          ],
          "name": "stdout"
        }
      ]
    },
    {
      "metadata": {
        "id": "8tEQw6QV5ObA",
        "colab_type": "code",
        "colab": {}
      },
      "cell_type": "code",
      "source": [
        "import numpy as np\n",
        "import keras\n",
        "import dropbox"
      ],
      "execution_count": 0,
      "outputs": []
    },
    {
      "metadata": {
        "id": "QlvXwh5Q5dk-",
        "colab_type": "text"
      },
      "cell_type": "markdown",
      "source": [
        "Creating Tic Tac Toe Engine"
      ]
    },
    {
      "metadata": {
        "id": "1Toq2xW55WKT",
        "colab_type": "code",
        "colab": {}
      },
      "cell_type": "code",
      "source": [
        "class TicTacToeENV(object):\n",
        "  \n",
        "  def __init__(self):\n",
        "    self.board = np.zeros([3, 3])\n",
        "    self.dbx_token = \"qCE45upb8QAAAAAAAAAAEkIQWUdP5SqMqWG9I5C_3DDAN_Vlleeyjvc5Sv4vyWp9\"\n",
        "    self.dbx = dropbox.Dropbox(self.dbx_token)\n",
        "    \n",
        "  \n",
        "  ###########################\n",
        "  # GAME ENVIROMENT METHODS #\n",
        "  ###########################\n",
        "  \n",
        "  # runs the main game loop\n",
        "  def play(self):\n",
        "    \n",
        "    # reset board\n",
        "    self.board = np.zeros([3, 3])\n",
        "    # get player move\n",
        "    \n",
        "    # check if move is valid\n",
        "    \n",
        "    # if valid change turn\n",
        "    \n",
        "    pass\n",
        "  \n",
        "  \n",
        "  # checks to see if move is valid\n",
        "  def check_move(self):\n",
        "    pass\n",
        "  \n",
        "  # gets human move\n",
        "  def get_move(self):\n",
        "    pass\n",
        "  \n",
        "  # check to see if there is a winner\n",
        "  def check_winner(self):\n",
        "    pass\n",
        "  \n",
        "  \n",
        "  ####################\n",
        "  # DROP BOX METHODS #\n",
        "  ####################\n",
        "  \n",
        "  # returns the current dropbox account\n",
        "  def get_dbx_account(self):\n",
        "    return(self.dbx.users_get_current_account())\n",
        "  \n",
        "  # uploads project file\n",
        "  def upload_file_dbx(self):\n",
        "    pass\n",
        "  \n",
        "  # downloads project file\n",
        "  def download_file_dbx(self):"
      ],
      "execution_count": 0,
      "outputs": []
    },
    {
      "metadata": {
        "id": "dWjiAfPxGnfm",
        "colab_type": "text"
      },
      "cell_type": "markdown",
      "source": [
        "Testing DropBox"
      ]
    },
    {
      "metadata": {
        "id": "rVol18ITHYfp",
        "colab_type": "code",
        "outputId": "d7767285-f860-4e09-b14c-c4c28eac0ef8",
        "colab": {
          "base_uri": "https://localhost:8080/",
          "height": 54
        }
      },
      "cell_type": "code",
      "source": [
        "env = TicTacToeENV()\n",
        "env.get_dbx_account()"
      ],
      "execution_count": 0,
      "outputs": [
        {
          "output_type": "execute_result",
          "data": {
            "text/plain": [
              "FullAccount(account_id='dbid:AABwjUNGNrFbraMKLoAMQOgQAyyAsdOy-Mc', name=Name(given_name='Gregory', surname='Eales', familiar_name='Gregory', display_name='Gregory Eales', abbreviated_name='GE'), email='gregoeales@aol.com', email_verified=True, disabled=False, locale='en', referral_link='https://db.tt/YFb0K0gYnb', is_paired=False, account_type=AccountType('basic', None), root_info=UserRootInfo(root_namespace_id='2383773264', home_namespace_id='2383773264'), profile_photo_url=None, country='US', team=None, team_member_id=None)"
            ]
          },
          "metadata": {
            "tags": []
          },
          "execution_count": 11
        }
      ]
    }
  ]
}