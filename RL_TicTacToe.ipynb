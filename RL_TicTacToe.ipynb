{
  "nbformat": 4,
  "nbformat_minor": 0,
  "metadata": {
    "colab": {
      "name": "RL-TicTacToe.ipynb",
      "version": "0.3.2",
      "provenance": [],
      "collapsed_sections": [],
      "include_colab_link": true
    },
    "kernelspec": {
      "name": "python3",
      "display_name": "Python 3"
    },
    "accelerator": "TPU"
  },
  "cells": [
    {
      "cell_type": "markdown",
      "metadata": {
        "id": "view-in-github",
        "colab_type": "text"
      },
      "source": [
        "<a href=\"https://colab.research.google.com/github/Gregory-Eales/RL-TicTacToe/blob/master/RL_TicTacToe.ipynb\" target=\"_parent\"><img src=\"https://colab.research.google.com/assets/colab-badge.svg\" alt=\"Open In Colab\"/></a>"
      ]
    },
    {
      "metadata": {
        "id": "V0idV2Z25Xrj",
        "colab_type": "text"
      },
      "cell_type": "markdown",
      "source": [
        "Import Dependencies"
      ]
    },
    {
      "metadata": {
        "id": "l3Inx90vFNBu",
        "colab_type": "code",
        "outputId": "5ad795d9-cc59-4fdf-95c7-30782a654327",
        "colab": {
          "base_uri": "https://localhost:8080/",
          "height": 136
        }
      },
      "cell_type": "code",
      "source": [
        "!pip3 install dropbox"
      ],
      "execution_count": 1,
      "outputs": [
        {
          "output_type": "stream",
          "text": [
            "Requirement already satisfied: dropbox in /usr/local/lib/python3.6/dist-packages (9.3.0)\n",
            "Requirement already satisfied: six>=1.3.0 in /usr/local/lib/python3.6/dist-packages (from dropbox) (1.11.0)\n",
            "Requirement already satisfied: requests>=2.16.2 in /usr/local/lib/python3.6/dist-packages (from dropbox) (2.18.4)\n",
            "Requirement already satisfied: urllib3<1.23,>=1.21.1 in /usr/local/lib/python3.6/dist-packages (from requests>=2.16.2->dropbox) (1.22)\n",
            "Requirement already satisfied: chardet<3.1.0,>=3.0.2 in /usr/local/lib/python3.6/dist-packages (from requests>=2.16.2->dropbox) (3.0.4)\n",
            "Requirement already satisfied: certifi>=2017.4.17 in /usr/local/lib/python3.6/dist-packages (from requests>=2.16.2->dropbox) (2019.3.9)\n",
            "Requirement already satisfied: idna<2.7,>=2.5 in /usr/local/lib/python3.6/dist-packages (from requests>=2.16.2->dropbox) (2.6)\n"
          ],
          "name": "stdout"
        }
      ]
    },
    {
      "metadata": {
        "id": "8tEQw6QV5ObA",
        "colab_type": "code",
        "colab": {
          "base_uri": "https://localhost:8080/",
          "height": 34
        },
        "outputId": "d4d3fdfc-e291-4212-e966-76c7f5a71825"
      },
      "cell_type": "code",
      "source": [
        "import numpy as np\n",
        "import keras\n",
        "import dropbox\n",
        "import random\n",
        "from tqdm import tqdm\n",
        "from keras.layers import Convolution2D as Conv2D\n",
        "from keras.layers import Dense\n",
        "from keras.layers import Flatten\n",
        "import matplotlib.pyplot as plt"
      ],
      "execution_count": 2,
      "outputs": [
        {
          "output_type": "stream",
          "text": [
            "Using TensorFlow backend.\n"
          ],
          "name": "stderr"
        }
      ]
    },
    {
      "metadata": {
        "id": "mD72R9EdToLl",
        "colab_type": "code",
        "colab": {}
      },
      "cell_type": "code",
      "source": [
        "%matplotlib inline"
      ],
      "execution_count": 0,
      "outputs": []
    },
    {
      "metadata": {
        "id": "QlvXwh5Q5dk-",
        "colab_type": "text"
      },
      "cell_type": "markdown",
      "source": [
        "Defining Training Enviroment"
      ]
    },
    {
      "metadata": {
        "id": "1Toq2xW55WKT",
        "colab_type": "code",
        "colab": {}
      },
      "cell_type": "code",
      "source": [
        "class TrainENV(object):\n",
        "  \n",
        "  def __init__(self, num_models=2):\n",
        "    self.num_models = num_models\n",
        "    self.board = np.zeros([3, 3])\n",
        "    self.dbx_token = \"qCE45upb8QAAAAAAAAAAEkIQWUdP5SqMqWG9I5C_3DDAN_Vlleeyjvc5Sv4vyWp9\"\n",
        "    self.dbx = dropbox.Dropbox(self.dbx_token)\n",
        "    self.initialize_models()\n",
        "    self.build_model_architecture()\n",
        "    \n",
        "  ###############################\n",
        "  # DEEP NEURAL NETWORK METHODS #\n",
        "  ###############################\n",
        "  \n",
        "  # defines and stores models in model dict\n",
        "  def initialize_models(self):\n",
        "    self.model = {}\n",
        "    for i in range(self.num_models):\n",
        "      self.model[\"M\" + str(i+1)] = keras.models.Sequential()\n",
        "    \n",
        "    \n",
        "  # builds initialized model with defined architecture\n",
        "  def build_model_architecture(self):\n",
        "    for i in range(self.num_models):\n",
        "      self.model[\"M\" + str(i+1)].add(Conv2D(30, kernel_size=2, activation='relu', padding=\"same\", input_shape=(3,3,1)))\n",
        "      self.model[\"M\" + str(i+1)].add(Conv2D(15, kernel_size=2, padding=\"same\", activation='relu'))\n",
        "      self.model[\"M\" + str(i+1)].add(Flatten())\n",
        "      self.model[\"M\" + str(i+1)].add(Dense(15, activation='relu'))\n",
        "      self.model[\"M\" + str(i+1)].add(Dense(9, activation='sigmoid'))\n",
        "      self.model['M' + str(i+1)].compile(optimizer='adam', loss='mean_squared_error', metrics=['accuracy'])\n",
        "    \n",
        "  \n",
        "  # saves models in project folder\n",
        "  def save_models(self):\n",
        "    for i in range(self.num_models):\n",
        "     # self.model[\"M\"+str(i+1)].\n",
        "     pass\n",
        "  \n",
        "  # loads models from project folder\n",
        "  def load_models(self):\n",
        "    pass\n",
        "  \n",
        "  ###########################\n",
        "  # GAME ENVIROMENT METHODS #\n",
        "  ###########################\n",
        "  \n",
        "  # runs the main game loop\n",
        "  def play_human(self, model=\"M1\"):\n",
        "    self.board = np.zeros([3, 3])\n",
        "    turn = random.choice([\"human\", \"ai\"])\n",
        "    if turn == \"ai\":\n",
        "      model = model\n",
        "    else:\n",
        "      model = model\n",
        "    playing = True\n",
        "    self.print_board()\n",
        "    while playing:\n",
        "      \n",
        "      if turn == \"ai\":\n",
        "      # make ai move\n",
        "        self.make_ai_move(model=model)\n",
        "        turn = \"human\"\n",
        "        \n",
        "      else:\n",
        "        # make rand move\n",
        "        self.make_human_move()\n",
        "        turn = \"ai\"\n",
        "          \n",
        "      winner_state = self.check_winner()\n",
        "        \n",
        "      if winner_state == None and self.check_draw():\n",
        "        playing = False\n",
        "        print(\"Game was a draw!\")\n",
        "        \n",
        "      if winner_state != None:\n",
        "        playing = False\n",
        "        \n",
        "      self.print_board()\n",
        "    \n",
        "    if winner_state == 1:\n",
        "      print(\"AI won the match!\")\n",
        "      \n",
        "    if winner_state == -1:\n",
        "      print(\"Human won the match!\")\n",
        "  \n",
        "  def rand_train_ai(self, model=\"M1\", epochs=100):\n",
        "    \n",
        "    hist_win_rate = []\n",
        "    number_games = 0\n",
        "    ai_wins = 0\n",
        "    \n",
        "    for i in tqdm(range(epochs)):\n",
        "      number_games += 1\n",
        "      self.board = np.zeros([3, 3])\n",
        "      playing = True\n",
        "      turn = random.choice([\"ai\", \"rand\"])\n",
        "      big_x = []\n",
        "      big_y = []\n",
        "      ai_x = []\n",
        "      ai_y = []\n",
        "      rand_x = []\n",
        "      rand_y = []\n",
        "      \n",
        "      while playing:\n",
        "        \n",
        "        if turn == \"ai\":\n",
        "          # make ai move\n",
        "          ai_y.append(self.board)\n",
        "          ai_x.append(self.make_ai_move())\n",
        "          turn = \"rand\"\n",
        "        \n",
        "        elif turn == \"rand\":\n",
        "          # make rand move\n",
        "          rand_y.append(self.board/-1)\n",
        "          rand_x.append(self.make_rand_move()/-1)\n",
        "          turn = \"ai\"\n",
        "          \n",
        "        winner_state = self.check_winner()\n",
        "        \n",
        "        if winner_state == None and self.check_draw():\n",
        "          playing = False\n",
        "        \n",
        "        if winner_state != None:\n",
        "          playing = False\n",
        "        \n",
        "      if winner_state == 1:\n",
        "        ai_wins += 1\n",
        "        length = len(ai_x)\n",
        "        big_x = big_x + rand_x\n",
        "        big_y = big_y + rand_y\n",
        "        ai_x = np.array(ai_x).reshape(length, 3, 3, 1)\n",
        "        ai_y = np.array(ai_y).reshape(length, 9)\n",
        "        self.model[model].fit(ai_x, ai_y, verbose=0, epochs=10)\n",
        "          \n",
        "      if winner_state == -1:\n",
        "        length = len(rand_x)\n",
        "        big_x = big_x + rand_x\n",
        "        big_y = big_y + rand_y\n",
        "        rand_x = np.array(rand_x).reshape(length, 3, 3, 1)\n",
        "        rand_y = np.array(rand_y).reshape(length, 9)\n",
        "        self.model[model].fit(rand_x, rand_y, verbose=0, epochs=10)\n",
        "        \n",
        "      hist_win_rate.append(ai_wins/number_games)\n",
        "    plt.plot(hist_win_rate)\n",
        "    plt.show()\n",
        "    \n",
        "    length = len(big_x)\n",
        "    big_x = np.array(big_x).reshape(length, 3, 3, 1)\n",
        "    big_y = np.array(big_y).reshape(length, 9)\n",
        "    self.model[model].fit(big_x, big_y, epochs = 1000)\n",
        "    \n",
        "    \n",
        "  def rand_play_ai(self, model=\"M1\", epochs=100):\n",
        "    \n",
        "    hist_win_rate = []\n",
        "    number_games = 0\n",
        "    ai_wins = 0\n",
        "    \n",
        "    for i in tqdm(range(epochs)):\n",
        "      number_games += 1\n",
        "      self.board = np.zeros([3, 3])\n",
        "      playing = True\n",
        "      turn = random.choice([\"ai\", \"rand\"])\n",
        "      \n",
        "      if turn == \"ai\":\n",
        "        model = \"M1\"\n",
        "      else:\n",
        "        model = \"M2\"\n",
        "      \n",
        "      while playing:\n",
        "        \n",
        "        if turn == \"ai\":\n",
        "          # make ai move\n",
        "          self.make_ai_move()\n",
        "          turn = \"rand\"\n",
        "        \n",
        "        elif turn == \"rand\":\n",
        "          # make rand move\n",
        "          self.make_rand_move()\n",
        "          turn = \"ai\"\n",
        "          \n",
        "        winner_state = self.check_winner()\n",
        "        \n",
        "        if winner_state == None and self.check_draw():\n",
        "          playing = False\n",
        "        \n",
        "        if winner_state != None:\n",
        "          playing = False\n",
        "        \n",
        "      if winner_state == 1:\n",
        "        ai_wins += 1\n",
        "        \n",
        "          \n",
        "      if winner_state == -1:\n",
        "        pass\n",
        "        \n",
        "      hist_win_rate.append(ai_wins/number_games)\n",
        "    plt.plot(hist_win_rate)\n",
        "    plt.show()\n",
        "    \n",
        "    \n",
        "  \n",
        "  def ai_train_ai(self, model1=\"M1\", model2 = \"M2\", epochs=100):\n",
        "    \n",
        "    hist_M1 = []\n",
        "    hist_M2 = []\n",
        "    hist_draw = []\n",
        "    number_games = 0\n",
        "    M1_wins = 0\n",
        "    M2_wins = 0\n",
        "    draws = 0\n",
        "    \n",
        "    for i in tqdm(range(epochs)):\n",
        "      number_games += 1\n",
        "      self.board = np.zeros([3, 3])\n",
        "      playing = True\n",
        "      turn = random.choice([\"M1\", \"M2\"])\n",
        "      big_x = []\n",
        "      big_y = []\n",
        "      ai_x = []\n",
        "      ai_y = []\n",
        "      rand_x = []\n",
        "      rand_y = []\n",
        "      \n",
        "      while playing:\n",
        "        \n",
        "        if turn == \"M1\":\n",
        "          # make ai move\n",
        "          ai_y.append(self.board)\n",
        "          ai_x.append(self.make_ai_move(model=model1))\n",
        "          turn = \"M2\"\n",
        "        \n",
        "        elif turn == \"M2\":\n",
        "          # make rand move\n",
        "          rand_y.append(self.board/-1)\n",
        "          rand_x.append(self.make_ai_move(model=model2, state_type = -1)/-1)\n",
        "          turn = \"M1\"\n",
        "          \n",
        "        winner_state = self.check_winner()\n",
        "        \n",
        "        if winner_state == None and self.check_draw():\n",
        "          draws += 1\n",
        "          playing = False\n",
        "        \n",
        "        if winner_state != None:\n",
        "          playing = False\n",
        "        \n",
        "      if winner_state == 1:\n",
        "        M1_wins += 1\n",
        "        length = len(ai_x)\n",
        "        #big_x = big_x + rand_x\n",
        "        #big_y = big_y + rand_y\n",
        "        ai_x = np.array(ai_x).reshape(length, 3, 3, 1)\n",
        "        ai_y = np.array(ai_y).reshape(length, 9)\n",
        "        to_learn = random.choice([model1, model2])\n",
        "        self.model[to_learn].fit(ai_x, ai_y, verbose=0, epochs=1)\n",
        "        \n",
        "          \n",
        "      if winner_state == -1:\n",
        "        M2_wins +=1\n",
        "        length = len(rand_x)\n",
        "        #big_x = big_x + rand_x\n",
        "        #big_y = big_y + rand_y\n",
        "        rand_x = np.array(rand_x).reshape(length, 3, 3, 1)\n",
        "        rand_y = np.array(rand_y).reshape(length, 9)\n",
        "        to_learn = random.choice([model1, model2])\n",
        "        self.model[to_learn].fit(rand_x, rand_y, verbose=0, epochs=1)\n",
        "        \n",
        "      hist_M1.append(M1_wins/number_games)\n",
        "      hist_M2.append(M2_wins/number_games)\n",
        "      hist_draw.append(draws/number_games)\n",
        "      \n",
        "    plt.plot(hist_M1, label=\"Model1 Wins\")\n",
        "    plt.plot(hist_M2, label=\"Model2 Wins\")\n",
        "    plt.plot(hist_draw, label=\"Draws\")\n",
        "    plt.legend()\n",
        "    plt.show(hist_draw)\n",
        "    \n",
        "    #length = len(big_x)\n",
        "    #big_x = np.array(big_x).reshape(length, 3, 3, 1)\n",
        "    #big_y = np.array(big_y).reshape(length, 9)\n",
        "    #self.model[model1].fit(big_x, big_y, epochs = 1000)\n",
        "        \n",
        "  def make_ai_move(self, model=\"M1\", state_type=1):\n",
        "    if state_type == 1:\n",
        "      move = self.model[model].predict(self.board.reshape(1, 3, 3, 1)).reshape(3, 3)\n",
        "    if state_type == -1:\n",
        "      move = self.model[model].predict(self.board.reshape(1, 3, 3, 1)/-1).reshape(3, 3)\n",
        "    picking = True\n",
        "    while picking:\n",
        "      maximum = move.max()\n",
        "      pred_truth = move == maximum\n",
        "      pred_truth = pred_truth\n",
        "      activation_loc = [0, 0]\n",
        "      for j in range(3):\n",
        "        for i in range(3):\n",
        "          if pred_truth[j][i] == 1:\n",
        "            activation_loc = [i, j]\n",
        "            if self.board[j][i] == 0:\n",
        "              self.board[j][i] = state_type\n",
        "              picking = False\n",
        "              return move\n",
        "            else:\n",
        "              move[activation_loc[1]][activation_loc[0]] = 0\n",
        "    \n",
        "  \n",
        "  \n",
        "  def make_rand_move(self):\n",
        "    move = np.zeros([3, 3])\n",
        "    moves = []\n",
        "    for i in range(3):\n",
        "      for j in range(3):\n",
        "        if self.board[j][i] == 0:\n",
        "          moves.append([j, i])\n",
        "    \n",
        "    if moves != []:\n",
        "      \n",
        "      choice = random.choice(moves)\n",
        "    \n",
        "      self.board[choice[0]][choice[1]] = -1\n",
        "  \n",
        "      move[choice[0]][choice[1]] = -1\n",
        "    \n",
        "      return move\n",
        "    \n",
        "    else:\n",
        "      #print(self.board)\n",
        "      pass\n",
        "      \n",
        "  # checks for a draw\n",
        "  def check_draw(self):\n",
        "    \n",
        "    for i in range(3):\n",
        "      for j in range(3):\n",
        "        if self.board[i][j] == 0:\n",
        "          return False\n",
        "    return True\n",
        "  \n",
        "  \n",
        "  # checks to see if move is valid\n",
        "  def check_move(self):\n",
        "    pass\n",
        "  \n",
        "  # gets human move\n",
        "  def make_human_move(self):\n",
        "    making_move = True\n",
        "    while making_move:\n",
        "      y = input(\"move y-dimension: \")\n",
        "      x = input(\"move y-dimension: \")\n",
        "      if self.board[int(y)][int(x)] == 0:\n",
        "            making_move = False\n",
        "      else:\n",
        "            print(\"Invalid Move, Try Again\")\n",
        "      \n",
        "    self.board[int(y)][int(x)] = -1\n",
        "  \n",
        "  # check to see if there is a winner\n",
        "  def check_winner(self):\n",
        "    \n",
        "    # check horizontal\n",
        "    for i in range(3):\n",
        "      \n",
        "      if self.board[i][0] == self.board[i][1] and self.board[i][1] == self.board[i][2]:\n",
        "        if self.board[i][0] != 0:\n",
        "          return self.board[i][0]\n",
        "        \n",
        "      if self.board[0][i] == self.board[1][i] and self.board[1][i] == self.board[2][i]:\n",
        "        if self.board[0][i] != 0:\n",
        "          return self.board[0][i]\n",
        "      \n",
        "    if self.board[0][0] == self.board[1][1] and self.board[1][1] == self.board[2][2]:\n",
        "      if self.board[0][0] != 0: \n",
        "        return self.board[0][0]\n",
        "    \n",
        "    if self.board[0][2] == self.board[1][1] and self.board[1][1] == self.board[2][0]:\n",
        "      if self.board[1][1] != 0:\n",
        "        return self.board[1][1]\n",
        "    \n",
        "    \n",
        "    return None\n",
        "   \n",
        "      \n",
        "  \n",
        "  # prints board state\n",
        "  def print_board(self):\n",
        "    board = []\n",
        "    \n",
        "    for i in range(3):\n",
        "      row = []\n",
        "      for j in range(3):\n",
        "        \n",
        "        if self.board[i][j] == 0:\n",
        "          row.append(\" \")\n",
        "          \n",
        "        elif self.board[i][j] == 1:\n",
        "          row.append(\"X\")\n",
        "        \n",
        "        elif self.board[i][j] == -1:\n",
        "          row.append(\"O\")\n",
        "        \n",
        "      board.append(row)\n",
        "    \n",
        "    print(\"-------------\")\n",
        "    print(\"|\", board[0][0], \"|\", board[0][1], \"|\", board[0][2], \"|\")\n",
        "    print(\"-------------\")\n",
        "    print(\"|\", board[1][0], \"|\", board[1][1], \"|\", board[1][2], \"|\")\n",
        "    print(\"-------------\")\n",
        "    print(\"|\", board[2][0], \"|\", board[2][1], \"|\", board[2][2], \"|\")\n",
        "    print(\"-------------\")\n",
        "    \n",
        "  \n",
        "  \n",
        "  ####################\n",
        "  # DROP BOX METHODS #\n",
        "  ####################\n",
        "  \n",
        "  # returns the current dropbox account\n",
        "  def get_dbx_account(self):\n",
        "    return(self.dbx.users_get_current_account())\n",
        "  \n",
        "  # uploads project file\n",
        "  def upload_file_dbx(self):\n",
        "    dbx.files_upload(\"RL-TicTacToe\", '/RL-TicTacToe/')\n",
        "  \n",
        "  # downloads project file\n",
        "  def download_file_dbx(self):\n",
        "    pass"
      ],
      "execution_count": 0,
      "outputs": []
    },
    {
      "metadata": {
        "id": "dWjiAfPxGnfm",
        "colab_type": "text"
      },
      "cell_type": "markdown",
      "source": [
        "Testing ENV Elements"
      ]
    },
    {
      "metadata": {
        "id": "QAMiUKuKgxB7",
        "colab_type": "code",
        "colab": {
          "base_uri": "https://localhost:8080/",
          "height": 286
        },
        "outputId": "aa6e5716-9438-4857-a2b6-656ec7ce6aa4"
      },
      "cell_type": "code",
      "source": [
        "env = TrainENV(num_models = 4)\n",
        "env.ai_train_ai(epochs = 1000)"
      ],
      "execution_count": 64,
      "outputs": [
        {
          "output_type": "stream",
          "text": [
            "100%|██████████| 1000/1000 [00:15<00:00, 66.49it/s]\n"
          ],
          "name": "stderr"
        },
        {
          "output_type": "display_data",
          "data": {
            "image/png": "[encoded data removed]",
            "text/plain": [
              "<Figure size 432x288 with 1 Axes>"
            ]
          },
          "metadata": {
            "tags": []
          }
        }
      ]
    },
    {
      "metadata": {
        "id": "rVol18ITHYfp",
        "colab_type": "code",
        "outputId": "7aaee016-5c3b-4af5-b72c-2896e6798340",
        "colab": {
          "base_uri": "https://localhost:8080/",
          "height": 286
        }
      },
      "cell_type": "code",
      "source": [
        "env.ai_train_ai(epochs = 1000, model1=\"M1\", model2=\"M3\")"
      ],
      "execution_count": 66,
      "outputs": [
        {
          "output_type": "stream",
          "text": [
            "100%|██████████| 1000/1000 [00:13<00:00, 75.53it/s]\n"
          ],
          "name": "stderr"
        },
        {
          "output_type": "display_data",
          "data": {
            "image/png": "[encoded data removed]",
            "text/plain": [
              "<Figure size 432x288 with 1 Axes>"
            ]
          },
          "metadata": {
            "tags": []
          }
        }
      ]
    },
    {
      "metadata": {
        "id": "Lxwcqo0Qx7fx",
        "colab_type": "code",
        "colab": {
          "base_uri": "https://localhost:8080/",
          "height": 286
        },
        "outputId": "a7c90c33-b7e4-4b4b-c647-b67d3619b76f"
      },
      "cell_type": "code",
      "source": [
        "env.rand_play_ai(epochs=1000)"
      ],
      "execution_count": 67,
      "outputs": [
        {
          "output_type": "stream",
          "text": [
            "100%|██████████| 1000/1000 [00:04<00:00, 223.88it/s]\n"
          ],
          "name": "stderr"
        },
        {
          "output_type": "display_data",
          "data": {
            "image/png": "[encoded data removed]",
            "text/plain": [
              "<Figure size 432x288 with 1 Axes>"
            ]
          },
          "metadata": {
            "tags": []
          }
        }
      ]
    },
    {
      "metadata": {
        "id": "80CIGbKqd-D7",
        "colab_type": "code",
        "colab": {
          "base_uri": "https://localhost:8080/",
          "height": 969
        },
        "outputId": "7d43fc98-faca-4653-a7a6-e98082d41799"
      },
      "cell_type": "code",
      "source": [
        "env.play_human()"
      ],
      "execution_count": 63,
      "outputs": [
        {
          "output_type": "stream",
          "text": [
            "-------------\n",
            "|   |   |   |\n",
            "-------------\n",
            "|   |   |   |\n",
            "-------------\n",
            "|   |   |   |\n",
            "-------------\n",
            "-------------\n",
            "|   |   |   |\n",
            "-------------\n",
            "|   |   |   |\n",
            "-------------\n",
            "|   | X |   |\n",
            "-------------\n",
            "move y-dimension: 0\n",
            "move y-dimension: 0\n",
            "-------------\n",
            "| O |   |   |\n",
            "-------------\n",
            "|   |   |   |\n",
            "-------------\n",
            "|   | X |   |\n",
            "-------------\n",
            "-------------\n",
            "| O |   |   |\n",
            "-------------\n",
            "|   | X |   |\n",
            "-------------\n",
            "|   | X |   |\n",
            "-------------\n",
            "move y-dimension: 0\n",
            "move y-dimension: 1\n",
            "-------------\n",
            "| O | O |   |\n",
            "-------------\n",
            "|   | X |   |\n",
            "-------------\n",
            "|   | X |   |\n",
            "-------------\n",
            "-------------\n",
            "| O | O |   |\n",
            "-------------\n",
            "| X | X |   |\n",
            "-------------\n",
            "|   | X |   |\n",
            "-------------\n",
            "move y-dimension: 0\n",
            "move y-dimension: 2\n",
            "-------------\n",
            "| O | O | O |\n",
            "-------------\n",
            "| X | X |   |\n",
            "-------------\n",
            "|   | X |   |\n",
            "-------------\n",
            "Human won the match!\n"
          ],
          "name": "stdout"
        }
      ]
    }
  ]
}